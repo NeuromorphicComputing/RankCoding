{
 "cells": [
  {
   "cell_type": "markdown",
   "metadata": {
    "id": "omjx22T_NO9b"
   },
   "source": [
    "## Confirm runtime settings"
   ]
  },
  {
   "cell_type": "code",
   "execution_count": 1,
   "metadata": {
    "colab": {
     "base_uri": "https://localhost:8080/"
    },
    "id": "PH3dsPuUNK4v",
    "outputId": "84cf0218-dd4e-417d-f6e6-46714a4397e8"
   },
   "outputs": [
    {
     "name": "stdout",
     "output_type": "stream",
     "text": [
      "Wed Sep 29 09:55:28 2021       \n",
      "+-----------------------------------------------------------------------------+\n",
      "| NVIDIA-SMI 470.63.01    Driver Version: 460.32.03    CUDA Version: 11.2     |\n",
      "|-------------------------------+----------------------+----------------------+\n",
      "| GPU  Name        Persistence-M| Bus-Id        Disp.A | Volatile Uncorr. ECC |\n",
      "| Fan  Temp  Perf  Pwr:Usage/Cap|         Memory-Usage | GPU-Util  Compute M. |\n",
      "|                               |                      |               MIG M. |\n",
      "|===============================+======================+======================|\n",
      "|   0  Tesla T4            Off  | 00000000:00:04.0 Off |                    0 |\n",
      "| N/A   34C    P8     9W /  70W |      0MiB / 15109MiB |      0%      Default |\n",
      "|                               |                      |                  N/A |\n",
      "+-------------------------------+----------------------+----------------------+\n",
      "                                                                               \n",
      "+-----------------------------------------------------------------------------+\n",
      "| Processes:                                                                  |\n",
      "|  GPU   GI   CI        PID   Type   Process name                  GPU Memory |\n",
      "|        ID   ID                                                   Usage      |\n",
      "|=============================================================================|\n",
      "|  No running processes found                                                 |\n",
      "+-----------------------------------------------------------------------------+\n"
     ]
    }
   ],
   "source": [
    "gpu_info = !nvidia-smi\n",
    "gpu_info = '\\n'.join(gpu_info)\n",
    "if gpu_info.find('failed') >= 0:\n",
    "  print('Select the Runtime > \"Change runtime type\" menu to enable a GPU accelerator, ')\n",
    "  print('and then re-execute this cell.')\n",
    "else:\n",
    "  print(gpu_info)"
   ]
  },
  {
   "cell_type": "code",
   "execution_count": 2,
   "metadata": {
    "colab": {
     "base_uri": "https://localhost:8080/"
    },
    "id": "6Ux88hXjNN_T",
    "outputId": "d30b11f6-c022-4f0b-8cb1-1cbe67655768"
   },
   "outputs": [
    {
     "name": "stdout",
     "output_type": "stream",
     "text": [
      "Your runtime has 27.3 gigabytes of available RAM\n",
      "\n",
      "You are using a high-RAM runtime!\n"
     ]
    }
   ],
   "source": [
    "from psutil import virtual_memory\n",
    "ram_gb = virtual_memory().total / 1e9\n",
    "print('Your runtime has {:.1f} gigabytes of available RAM\\n'.format(ram_gb))\n",
    "\n",
    "if ram_gb < 20:\n",
    "  print('To enable a high-RAM runtime, select the Runtime > \"Change runtime type\"')\n",
    "  print('menu, and then select High-RAM in the Runtime shape dropdown. Then, ')\n",
    "  print('re-execute this cell.')\n",
    "else:\n",
    "  print('You are using a high-RAM runtime!')"
   ]
  },
  {
   "cell_type": "code",
   "execution_count": 2,
   "metadata": {
    "id": "NEtk8IflNOiw"
   },
   "outputs": [],
   "source": []
  },
  {
   "cell_type": "code",
   "execution_count": 2,
   "metadata": {
    "id": "Gbi4XpxyNOl0"
   },
   "outputs": [],
   "source": []
  },
  {
   "cell_type": "markdown",
   "metadata": {
    "id": "uvSEUTGKNbiB"
   },
   "source": [
    "## Main Notebook"
   ]
  },
  {
   "cell_type": "code",
   "execution_count": 3,
   "metadata": {
    "colab": {
     "base_uri": "https://localhost:8080/"
    },
    "id": "scQQPiLjaUWb",
    "outputId": "fd7bb795-d3da-4757-a6c9-2516ca7a0225"
   },
   "outputs": [
    {
     "name": "stdout",
     "output_type": "stream",
     "text": [
      "Get:1 https://cloud.r-project.org/bin/linux/ubuntu bionic-cran40/ InRelease [3,626 B]\n",
      "Ign:2 https://developer.download.nvidia.com/compute/cuda/repos/ubuntu1804/x86_64  InRelease\n",
      "Ign:3 https://developer.download.nvidia.com/compute/machine-learning/repos/ubuntu1804/x86_64  InRelease\n",
      "Hit:4 https://developer.download.nvidia.com/compute/cuda/repos/ubuntu1804/x86_64  Release\n",
      "Hit:5 https://developer.download.nvidia.com/compute/machine-learning/repos/ubuntu1804/x86_64  Release\n",
      "Get:6 http://security.ubuntu.com/ubuntu bionic-security InRelease [88.7 kB]\n",
      "Get:7 http://ppa.launchpad.net/c2d4u.team/c2d4u4.0+/ubuntu bionic InRelease [15.9 kB]\n",
      "Get:8 https://cloud.r-project.org/bin/linux/ubuntu bionic-cran40/ Packages [68.5 kB]\n",
      "Hit:9 http://archive.ubuntu.com/ubuntu bionic InRelease\n",
      "Get:11 http://archive.ubuntu.com/ubuntu bionic-updates InRelease [88.7 kB]\n",
      "Hit:13 http://ppa.launchpad.net/cran/libgit2/ubuntu bionic InRelease\n",
      "Hit:14 http://ppa.launchpad.net/deadsnakes/ppa/ubuntu bionic InRelease\n",
      "Get:15 http://archive.ubuntu.com/ubuntu bionic-backports InRelease [74.6 kB]\n",
      "Get:16 http://security.ubuntu.com/ubuntu bionic-security/universe amd64 Packages [1,429 kB]\n",
      "Get:17 http://ppa.launchpad.net/graphics-drivers/ppa/ubuntu bionic InRelease [21.3 kB]\n",
      "Get:18 http://archive.ubuntu.com/ubuntu bionic-updates/main amd64 Packages [2,800 kB]\n",
      "Get:19 http://security.ubuntu.com/ubuntu bionic-security/restricted amd64 Packages [606 kB]\n",
      "Get:20 http://security.ubuntu.com/ubuntu bionic-security/main amd64 Packages [2,365 kB]\n",
      "Get:21 http://ppa.launchpad.net/c2d4u.team/c2d4u4.0+/ubuntu bionic/main Sources [1,802 kB]\n",
      "Get:22 http://archive.ubuntu.com/ubuntu bionic-updates/universe amd64 Packages [2,208 kB]\n",
      "Get:23 http://archive.ubuntu.com/ubuntu bionic-updates/restricted amd64 Packages [638 kB]\n",
      "Get:24 http://ppa.launchpad.net/c2d4u.team/c2d4u4.0+/ubuntu bionic/main amd64 Packages [922 kB]\n",
      "Get:25 http://ppa.launchpad.net/graphics-drivers/ppa/ubuntu bionic/main amd64 Packages [42.0 kB]\n",
      "Fetched 13.2 MB in 4s (3,158 kB/s)\n",
      "Reading package lists... Done\n",
      "Reading package lists... Done\n",
      "Building dependency tree       \n",
      "Reading state information... Done\n",
      "The following additional packages will be installed:\n",
      "  cm-super-minimal fonts-droid-fallback fonts-lato fonts-lmodern\n",
      "  fonts-noto-mono fonts-texgyre ghostscript gsfonts javascript-common\n",
      "  libcupsfilters1 libcupsimage2 libgs9 libgs9-common libijs-0.35 libjbig2dec0\n",
      "  libjs-jquery libkpathsea6 libpotrace0 libptexenc1 libruby2.5 libsynctex1\n",
      "  libtexlua52 libtexluajit2 libzzip-0-13 lmodern pfb2t1c2pfb poppler-data\n",
      "  preview-latex-style rake ruby ruby-did-you-mean ruby-minitest\n",
      "  ruby-net-telnet ruby-power-assert ruby-test-unit ruby2.5\n",
      "  rubygems-integration t1utils tex-common tex-gyre texlive-base\n",
      "  texlive-binaries texlive-latex-base texlive-latex-recommended\n",
      "  texlive-pictures texlive-plain-generic tipa\n",
      "Suggested packages:\n",
      "  fonts-noto ghostscript-x apache2 | lighttpd | httpd poppler-utils\n",
      "  fonts-japanese-mincho | fonts-ipafont-mincho fonts-japanese-gothic\n",
      "  | fonts-ipafont-gothic fonts-arphic-ukai fonts-arphic-uming fonts-nanum ri\n",
      "  ruby-dev bundler debhelper perl-tk xpdf-reader | pdf-viewer\n",
      "  texlive-fonts-recommended-doc texlive-latex-base-doc python-pygments\n",
      "  icc-profiles libfile-which-perl libspreadsheet-parseexcel-perl\n",
      "  texlive-latex-extra-doc texlive-latex-recommended-doc texlive-pstricks\n",
      "  dot2tex prerex ruby-tcltk | libtcltk-ruby texlive-pictures-doc vprerex\n",
      "The following NEW packages will be installed:\n",
      "  cm-super cm-super-minimal dvipng fonts-droid-fallback fonts-lato\n",
      "  fonts-lmodern fonts-noto-mono fonts-texgyre ghostscript gsfonts\n",
      "  javascript-common libcupsfilters1 libcupsimage2 libgs9 libgs9-common\n",
      "  libijs-0.35 libjbig2dec0 libjs-jquery libkpathsea6 libpotrace0 libptexenc1\n",
      "  libruby2.5 libsynctex1 libtexlua52 libtexluajit2 libzzip-0-13 lmodern\n",
      "  pfb2t1c2pfb poppler-data preview-latex-style rake ruby ruby-did-you-mean\n",
      "  ruby-minitest ruby-net-telnet ruby-power-assert ruby-test-unit ruby2.5\n",
      "  rubygems-integration t1utils tex-common tex-gyre texlive-base\n",
      "  texlive-binaries texlive-fonts-recommended texlive-latex-base\n",
      "  texlive-latex-extra texlive-latex-recommended texlive-pictures\n",
      "  texlive-plain-generic tipa\n",
      "0 upgraded, 51 newly installed, 0 to remove and 80 not upgraded.\n",
      "Need to get 163 MB of archives.\n",
      "After this operation, 503 MB of additional disk space will be used.\n",
      "Get:1 http://archive.ubuntu.com/ubuntu bionic/main amd64 fonts-droid-fallback all 1:6.0.1r16-1.1 [1,805 kB]\n",
      "Get:2 http://archive.ubuntu.com/ubuntu bionic/main amd64 fonts-lato all 2.0-2 [2,698 kB]\n",
      "Get:3 http://archive.ubuntu.com/ubuntu bionic/main amd64 poppler-data all 0.4.8-2 [1,479 kB]\n",
      "Get:4 http://archive.ubuntu.com/ubuntu bionic/main amd64 tex-common all 6.09 [33.0 kB]\n",
      "Get:5 http://archive.ubuntu.com/ubuntu bionic-updates/main amd64 libkpathsea6 amd64 2017.20170613.44572-8ubuntu0.1 [54.9 kB]\n",
      "Get:6 http://archive.ubuntu.com/ubuntu bionic-updates/main amd64 libptexenc1 amd64 2017.20170613.44572-8ubuntu0.1 [34.5 kB]\n",
      "Get:7 http://archive.ubuntu.com/ubuntu bionic-updates/main amd64 libsynctex1 amd64 2017.20170613.44572-8ubuntu0.1 [41.4 kB]\n",
      "Get:8 http://archive.ubuntu.com/ubuntu bionic-updates/main amd64 libtexlua52 amd64 2017.20170613.44572-8ubuntu0.1 [91.2 kB]\n",
      "Get:9 http://archive.ubuntu.com/ubuntu bionic-updates/main amd64 libtexluajit2 amd64 2017.20170613.44572-8ubuntu0.1 [230 kB]\n",
      "Get:10 http://archive.ubuntu.com/ubuntu bionic/main amd64 t1utils amd64 1.41-2 [56.0 kB]\n",
      "Get:11 http://archive.ubuntu.com/ubuntu bionic-updates/main amd64 libcupsimage2 amd64 2.2.7-1ubuntu2.8 [18.6 kB]\n",
      "Get:12 http://archive.ubuntu.com/ubuntu bionic/main amd64 libijs-0.35 amd64 0.35-13 [15.5 kB]\n",
      "Get:13 http://archive.ubuntu.com/ubuntu bionic/main amd64 libjbig2dec0 amd64 0.13-6 [55.9 kB]\n",
      "Get:14 http://archive.ubuntu.com/ubuntu bionic-updates/main amd64 libgs9-common all 9.26~dfsg+0-0ubuntu0.18.04.14 [5,092 kB]\n",
      "Get:15 http://archive.ubuntu.com/ubuntu bionic-updates/main amd64 libgs9 amd64 9.26~dfsg+0-0ubuntu0.18.04.14 [2,265 kB]\n",
      "Get:16 http://archive.ubuntu.com/ubuntu bionic/main amd64 libpotrace0 amd64 1.14-2 [17.4 kB]\n",
      "Get:17 http://archive.ubuntu.com/ubuntu bionic-updates/main amd64 libzzip-0-13 amd64 0.13.62-3.1ubuntu0.18.04.1 [26.0 kB]\n",
      "Get:18 http://archive.ubuntu.com/ubuntu bionic-updates/main amd64 texlive-binaries amd64 2017.20170613.44572-8ubuntu0.1 [8,179 kB]\n",
      "Get:19 http://archive.ubuntu.com/ubuntu bionic/main amd64 texlive-base all 2017.20180305-1 [18.7 MB]\n",
      "Get:20 http://archive.ubuntu.com/ubuntu bionic/main amd64 fonts-lmodern all 2.004.5-3 [4,551 kB]\n",
      "Get:21 http://archive.ubuntu.com/ubuntu bionic/main amd64 texlive-latex-base all 2017.20180305-1 [951 kB]\n",
      "Get:22 http://archive.ubuntu.com/ubuntu bionic/main amd64 texlive-latex-recommended all 2017.20180305-1 [14.9 MB]\n",
      "Get:23 http://archive.ubuntu.com/ubuntu bionic/universe amd64 cm-super-minimal all 0.3.4-11 [5,810 kB]\n",
      "Get:24 http://archive.ubuntu.com/ubuntu bionic/universe amd64 pfb2t1c2pfb amd64 0.3-11 [9,342 B]\n",
      "Get:25 http://archive.ubuntu.com/ubuntu bionic/universe amd64 cm-super all 0.3.4-11 [18.7 MB]\n",
      "Get:26 http://archive.ubuntu.com/ubuntu bionic-updates/main amd64 ghostscript amd64 9.26~dfsg+0-0ubuntu0.18.04.14 [51.3 kB]\n",
      "Get:27 http://archive.ubuntu.com/ubuntu bionic/universe amd64 dvipng amd64 1.15-1 [78.2 kB]\n",
      "Get:28 http://archive.ubuntu.com/ubuntu bionic/main amd64 fonts-noto-mono all 20171026-2 [75.5 kB]\n",
      "Get:29 http://archive.ubuntu.com/ubuntu bionic/universe amd64 fonts-texgyre all 20160520-1 [8,761 kB]\n",
      "Get:30 http://archive.ubuntu.com/ubuntu bionic/main amd64 gsfonts all 1:8.11+urwcyr1.0.7~pre44-4.4 [3,120 kB]\n",
      "Get:31 http://archive.ubuntu.com/ubuntu bionic/main amd64 javascript-common all 11 [6,066 B]\n",
      "Get:32 http://archive.ubuntu.com/ubuntu bionic-updates/main amd64 libcupsfilters1 amd64 1.20.2-0ubuntu3.1 [108 kB]\n",
      "Get:33 http://archive.ubuntu.com/ubuntu bionic/main amd64 libjs-jquery all 3.2.1-1 [152 kB]\n",
      "Get:34 http://archive.ubuntu.com/ubuntu bionic/main amd64 rubygems-integration all 1.11 [4,994 B]\n",
      "Get:35 http://archive.ubuntu.com/ubuntu bionic-updates/main amd64 ruby2.5 amd64 2.5.1-1ubuntu1.10 [48.6 kB]\n",
      "Get:36 http://archive.ubuntu.com/ubuntu bionic/main amd64 ruby amd64 1:2.5.1 [5,712 B]\n",
      "Get:37 http://archive.ubuntu.com/ubuntu bionic-updates/main amd64 rake all 12.3.1-1ubuntu0.1 [44.9 kB]\n",
      "Get:38 http://archive.ubuntu.com/ubuntu bionic/main amd64 ruby-did-you-mean all 1.2.0-2 [9,700 B]\n",
      "Get:39 http://archive.ubuntu.com/ubuntu bionic/main amd64 ruby-minitest all 5.10.3-1 [38.6 kB]\n",
      "Get:40 http://archive.ubuntu.com/ubuntu bionic/main amd64 ruby-net-telnet all 0.1.1-2 [12.6 kB]\n",
      "Get:41 http://archive.ubuntu.com/ubuntu bionic/main amd64 ruby-power-assert all 0.3.0-1 [7,952 B]\n",
      "Get:42 http://archive.ubuntu.com/ubuntu bionic/main amd64 ruby-test-unit all 3.2.5-1 [61.1 kB]\n",
      "Get:43 http://archive.ubuntu.com/ubuntu bionic-updates/main amd64 libruby2.5 amd64 2.5.1-1ubuntu1.10 [3,071 kB]\n",
      "Get:44 http://archive.ubuntu.com/ubuntu bionic/main amd64 lmodern all 2.004.5-3 [9,631 kB]\n",
      "Get:45 http://archive.ubuntu.com/ubuntu bionic/main amd64 preview-latex-style all 11.91-1ubuntu1 [185 kB]\n",
      "Get:46 http://archive.ubuntu.com/ubuntu bionic/universe amd64 tex-gyre all 20160520-1 [4,998 kB]\n",
      "Get:47 http://archive.ubuntu.com/ubuntu bionic/universe amd64 texlive-fonts-recommended all 2017.20180305-1 [5,262 kB]\n",
      "Get:48 http://archive.ubuntu.com/ubuntu bionic/universe amd64 texlive-pictures all 2017.20180305-1 [4,026 kB]\n",
      "Get:49 http://archive.ubuntu.com/ubuntu bionic/universe amd64 texlive-latex-extra all 2017.20180305-2 [10.6 MB]\n",
      "Get:50 http://archive.ubuntu.com/ubuntu bionic/universe amd64 texlive-plain-generic all 2017.20180305-2 [23.6 MB]\n",
      "Get:51 http://archive.ubuntu.com/ubuntu bionic/universe amd64 tipa all 2:1.3-20 [2,978 kB]\n",
      "Fetched 163 MB in 9s (17.3 MB/s)\n",
      "debconf: unable to initialize frontend: Dialog\n",
      "debconf: (No usable dialog-like program is installed, so the dialog based frontend cannot be used. at /usr/share/perl5/Debconf/FrontEnd/Dialog.pm line 76, <> line 51.)\n",
      "debconf: falling back to frontend: Readline\n",
      "debconf: unable to initialize frontend: Readline\n",
      "debconf: (This frontend requires a controlling tty.)\n",
      "debconf: falling back to frontend: Teletype\n",
      "dpkg-preconfigure: unable to re-open stdin: \n",
      "Selecting previously unselected package fonts-droid-fallback.\n",
      "(Reading database ... 155013 files and directories currently installed.)\n",
      "Preparing to unpack .../00-fonts-droid-fallback_1%3a6.0.1r16-1.1_all.deb ...\n",
      "Unpacking fonts-droid-fallback (1:6.0.1r16-1.1) ...\n",
      "Selecting previously unselected package fonts-lato.\n",
      "Preparing to unpack .../01-fonts-lato_2.0-2_all.deb ...\n",
      "Unpacking fonts-lato (2.0-2) ...\n",
      "Selecting previously unselected package poppler-data.\n",
      "Preparing to unpack .../02-poppler-data_0.4.8-2_all.deb ...\n",
      "Unpacking poppler-data (0.4.8-2) ...\n",
      "Selecting previously unselected package tex-common.\n",
      "Preparing to unpack .../03-tex-common_6.09_all.deb ...\n",
      "Unpacking tex-common (6.09) ...\n",
      "Selecting previously unselected package libkpathsea6:amd64.\n",
      "Preparing to unpack .../04-libkpathsea6_2017.20170613.44572-8ubuntu0.1_amd64.deb ...\n",
      "Unpacking libkpathsea6:amd64 (2017.20170613.44572-8ubuntu0.1) ...\n",
      "Selecting previously unselected package libptexenc1:amd64.\n",
      "Preparing to unpack .../05-libptexenc1_2017.20170613.44572-8ubuntu0.1_amd64.deb ...\n",
      "Unpacking libptexenc1:amd64 (2017.20170613.44572-8ubuntu0.1) ...\n",
      "Selecting previously unselected package libsynctex1:amd64.\n",
      "Preparing to unpack .../06-libsynctex1_2017.20170613.44572-8ubuntu0.1_amd64.deb ...\n",
      "Unpacking libsynctex1:amd64 (2017.20170613.44572-8ubuntu0.1) ...\n",
      "Selecting previously unselected package libtexlua52:amd64.\n",
      "Preparing to unpack .../07-libtexlua52_2017.20170613.44572-8ubuntu0.1_amd64.deb ...\n",
      "Unpacking libtexlua52:amd64 (2017.20170613.44572-8ubuntu0.1) ...\n",
      "Selecting previously unselected package libtexluajit2:amd64.\n",
      "Preparing to unpack .../08-libtexluajit2_2017.20170613.44572-8ubuntu0.1_amd64.deb ...\n",
      "Unpacking libtexluajit2:amd64 (2017.20170613.44572-8ubuntu0.1) ...\n",
      "Selecting previously unselected package t1utils.\n",
      "Preparing to unpack .../09-t1utils_1.41-2_amd64.deb ...\n",
      "Unpacking t1utils (1.41-2) ...\n",
      "Selecting previously unselected package libcupsimage2:amd64.\n",
      "Preparing to unpack .../10-libcupsimage2_2.2.7-1ubuntu2.8_amd64.deb ...\n",
      "Unpacking libcupsimage2:amd64 (2.2.7-1ubuntu2.8) ...\n",
      "Selecting previously unselected package libijs-0.35:amd64.\n",
      "Preparing to unpack .../11-libijs-0.35_0.35-13_amd64.deb ...\n",
      "Unpacking libijs-0.35:amd64 (0.35-13) ...\n",
      "Selecting previously unselected package libjbig2dec0:amd64.\n",
      "Preparing to unpack .../12-libjbig2dec0_0.13-6_amd64.deb ...\n",
      "Unpacking libjbig2dec0:amd64 (0.13-6) ...\n",
      "Selecting previously unselected package libgs9-common.\n",
      "Preparing to unpack .../13-libgs9-common_9.26~dfsg+0-0ubuntu0.18.04.14_all.deb ...\n",
      "Unpacking libgs9-common (9.26~dfsg+0-0ubuntu0.18.04.14) ...\n",
      "Selecting previously unselected package libgs9:amd64.\n",
      "Preparing to unpack .../14-libgs9_9.26~dfsg+0-0ubuntu0.18.04.14_amd64.deb ...\n",
      "Unpacking libgs9:amd64 (9.26~dfsg+0-0ubuntu0.18.04.14) ...\n",
      "Selecting previously unselected package libpotrace0.\n",
      "Preparing to unpack .../15-libpotrace0_1.14-2_amd64.deb ...\n",
      "Unpacking libpotrace0 (1.14-2) ...\n",
      "Selecting previously unselected package libzzip-0-13:amd64.\n",
      "Preparing to unpack .../16-libzzip-0-13_0.13.62-3.1ubuntu0.18.04.1_amd64.deb ...\n",
      "Unpacking libzzip-0-13:amd64 (0.13.62-3.1ubuntu0.18.04.1) ...\n",
      "Selecting previously unselected package texlive-binaries.\n",
      "Preparing to unpack .../17-texlive-binaries_2017.20170613.44572-8ubuntu0.1_amd64.deb ...\n",
      "Unpacking texlive-binaries (2017.20170613.44572-8ubuntu0.1) ...\n",
      "Selecting previously unselected package texlive-base.\n",
      "Preparing to unpack .../18-texlive-base_2017.20180305-1_all.deb ...\n",
      "Unpacking texlive-base (2017.20180305-1) ...\n",
      "Selecting previously unselected package fonts-lmodern.\n",
      "Preparing to unpack .../19-fonts-lmodern_2.004.5-3_all.deb ...\n",
      "Unpacking fonts-lmodern (2.004.5-3) ...\n",
      "Selecting previously unselected package texlive-latex-base.\n",
      "Preparing to unpack .../20-texlive-latex-base_2017.20180305-1_all.deb ...\n",
      "Unpacking texlive-latex-base (2017.20180305-1) ...\n",
      "Selecting previously unselected package texlive-latex-recommended.\n",
      "Preparing to unpack .../21-texlive-latex-recommended_2017.20180305-1_all.deb ...\n",
      "Unpacking texlive-latex-recommended (2017.20180305-1) ...\n",
      "Selecting previously unselected package cm-super-minimal.\n",
      "Preparing to unpack .../22-cm-super-minimal_0.3.4-11_all.deb ...\n",
      "Unpacking cm-super-minimal (0.3.4-11) ...\n",
      "Selecting previously unselected package pfb2t1c2pfb.\n",
      "Preparing to unpack .../23-pfb2t1c2pfb_0.3-11_amd64.deb ...\n",
      "Unpacking pfb2t1c2pfb (0.3-11) ...\n",
      "Selecting previously unselected package cm-super.\n",
      "Preparing to unpack .../24-cm-super_0.3.4-11_all.deb ...\n",
      "Unpacking cm-super (0.3.4-11) ...\n",
      "Selecting previously unselected package ghostscript.\n",
      "Preparing to unpack .../25-ghostscript_9.26~dfsg+0-0ubuntu0.18.04.14_amd64.deb ...\n",
      "Unpacking ghostscript (9.26~dfsg+0-0ubuntu0.18.04.14) ...\n",
      "Selecting previously unselected package dvipng.\n",
      "Preparing to unpack .../26-dvipng_1.15-1_amd64.deb ...\n",
      "Unpacking dvipng (1.15-1) ...\n",
      "Selecting previously unselected package fonts-noto-mono.\n",
      "Preparing to unpack .../27-fonts-noto-mono_20171026-2_all.deb ...\n",
      "Unpacking fonts-noto-mono (20171026-2) ...\n",
      "Selecting previously unselected package fonts-texgyre.\n",
      "Preparing to unpack .../28-fonts-texgyre_20160520-1_all.deb ...\n",
      "Unpacking fonts-texgyre (20160520-1) ...\n",
      "Selecting previously unselected package gsfonts.\n",
      "Preparing to unpack .../29-gsfonts_1%3a8.11+urwcyr1.0.7~pre44-4.4_all.deb ...\n",
      "Unpacking gsfonts (1:8.11+urwcyr1.0.7~pre44-4.4) ...\n",
      "Selecting previously unselected package javascript-common.\n",
      "Preparing to unpack .../30-javascript-common_11_all.deb ...\n",
      "Unpacking javascript-common (11) ...\n",
      "Selecting previously unselected package libcupsfilters1:amd64.\n",
      "Preparing to unpack .../31-libcupsfilters1_1.20.2-0ubuntu3.1_amd64.deb ...\n",
      "Unpacking libcupsfilters1:amd64 (1.20.2-0ubuntu3.1) ...\n",
      "Selecting previously unselected package libjs-jquery.\n",
      "Preparing to unpack .../32-libjs-jquery_3.2.1-1_all.deb ...\n",
      "Unpacking libjs-jquery (3.2.1-1) ...\n",
      "Selecting previously unselected package rubygems-integration.\n",
      "Preparing to unpack .../33-rubygems-integration_1.11_all.deb ...\n",
      "Unpacking rubygems-integration (1.11) ...\n",
      "Selecting previously unselected package ruby2.5.\n",
      "Preparing to unpack .../34-ruby2.5_2.5.1-1ubuntu1.10_amd64.deb ...\n",
      "Unpacking ruby2.5 (2.5.1-1ubuntu1.10) ...\n",
      "Selecting previously unselected package ruby.\n",
      "Preparing to unpack .../35-ruby_1%3a2.5.1_amd64.deb ...\n",
      "Unpacking ruby (1:2.5.1) ...\n",
      "Selecting previously unselected package rake.\n",
      "Preparing to unpack .../36-rake_12.3.1-1ubuntu0.1_all.deb ...\n",
      "Unpacking rake (12.3.1-1ubuntu0.1) ...\n",
      "Selecting previously unselected package ruby-did-you-mean.\n",
      "Preparing to unpack .../37-ruby-did-you-mean_1.2.0-2_all.deb ...\n",
      "Unpacking ruby-did-you-mean (1.2.0-2) ...\n",
      "Selecting previously unselected package ruby-minitest.\n",
      "Preparing to unpack .../38-ruby-minitest_5.10.3-1_all.deb ...\n",
      "Unpacking ruby-minitest (5.10.3-1) ...\n",
      "Selecting previously unselected package ruby-net-telnet.\n",
      "Preparing to unpack .../39-ruby-net-telnet_0.1.1-2_all.deb ...\n",
      "Unpacking ruby-net-telnet (0.1.1-2) ...\n",
      "Selecting previously unselected package ruby-power-assert.\n",
      "Preparing to unpack .../40-ruby-power-assert_0.3.0-1_all.deb ...\n",
      "Unpacking ruby-power-assert (0.3.0-1) ...\n",
      "Selecting previously unselected package ruby-test-unit.\n",
      "Preparing to unpack .../41-ruby-test-unit_3.2.5-1_all.deb ...\n",
      "Unpacking ruby-test-unit (3.2.5-1) ...\n",
      "Selecting previously unselected package libruby2.5:amd64.\n",
      "Preparing to unpack .../42-libruby2.5_2.5.1-1ubuntu1.10_amd64.deb ...\n",
      "Unpacking libruby2.5:amd64 (2.5.1-1ubuntu1.10) ...\n",
      "Selecting previously unselected package lmodern.\n",
      "Preparing to unpack .../43-lmodern_2.004.5-3_all.deb ...\n",
      "Unpacking lmodern (2.004.5-3) ...\n",
      "Selecting previously unselected package preview-latex-style.\n",
      "Preparing to unpack .../44-preview-latex-style_11.91-1ubuntu1_all.deb ...\n",
      "Unpacking preview-latex-style (11.91-1ubuntu1) ...\n",
      "Selecting previously unselected package tex-gyre.\n",
      "Preparing to unpack .../45-tex-gyre_20160520-1_all.deb ...\n",
      "Unpacking tex-gyre (20160520-1) ...\n",
      "Selecting previously unselected package texlive-fonts-recommended.\n",
      "Preparing to unpack .../46-texlive-fonts-recommended_2017.20180305-1_all.deb ...\n",
      "Unpacking texlive-fonts-recommended (2017.20180305-1) ...\n",
      "Selecting previously unselected package texlive-pictures.\n",
      "Preparing to unpack .../47-texlive-pictures_2017.20180305-1_all.deb ...\n",
      "Unpacking texlive-pictures (2017.20180305-1) ...\n",
      "Selecting previously unselected package texlive-latex-extra.\n",
      "Preparing to unpack .../48-texlive-latex-extra_2017.20180305-2_all.deb ...\n",
      "Unpacking texlive-latex-extra (2017.20180305-2) ...\n",
      "Selecting previously unselected package texlive-plain-generic.\n",
      "Preparing to unpack .../49-texlive-plain-generic_2017.20180305-2_all.deb ...\n",
      "Unpacking texlive-plain-generic (2017.20180305-2) ...\n",
      "Selecting previously unselected package tipa.\n",
      "Preparing to unpack .../50-tipa_2%3a1.3-20_all.deb ...\n",
      "Unpacking tipa (2:1.3-20) ...\n",
      "Setting up libgs9-common (9.26~dfsg+0-0ubuntu0.18.04.14) ...\n",
      "Setting up libkpathsea6:amd64 (2017.20170613.44572-8ubuntu0.1) ...\n",
      "Setting up libjs-jquery (3.2.1-1) ...\n",
      "Setting up libtexlua52:amd64 (2017.20170613.44572-8ubuntu0.1) ...\n",
      "Setting up fonts-droid-fallback (1:6.0.1r16-1.1) ...\n",
      "Setting up libsynctex1:amd64 (2017.20170613.44572-8ubuntu0.1) ...\n",
      "Setting up libptexenc1:amd64 (2017.20170613.44572-8ubuntu0.1) ...\n",
      "Setting up tex-common (6.09) ...\n",
      "debconf: unable to initialize frontend: Dialog\n",
      "debconf: (No usable dialog-like program is installed, so the dialog based frontend cannot be used. at /usr/share/perl5/Debconf/FrontEnd/Dialog.pm line 76.)\n",
      "debconf: falling back to frontend: Readline\n",
      "update-language: texlive-base not installed and configured, doing nothing!\n",
      "Setting up gsfonts (1:8.11+urwcyr1.0.7~pre44-4.4) ...\n",
      "Setting up poppler-data (0.4.8-2) ...\n",
      "Setting up tex-gyre (20160520-1) ...\n",
      "Setting up preview-latex-style (11.91-1ubuntu1) ...\n",
      "Setting up fonts-texgyre (20160520-1) ...\n",
      "Setting up pfb2t1c2pfb (0.3-11) ...\n",
      "Setting up fonts-noto-mono (20171026-2) ...\n",
      "Setting up fonts-lato (2.0-2) ...\n",
      "Setting up libcupsfilters1:amd64 (1.20.2-0ubuntu3.1) ...\n",
      "Setting up libcupsimage2:amd64 (2.2.7-1ubuntu2.8) ...\n",
      "Setting up libjbig2dec0:amd64 (0.13-6) ...\n",
      "Setting up ruby-did-you-mean (1.2.0-2) ...\n",
      "Setting up t1utils (1.41-2) ...\n",
      "Setting up ruby-net-telnet (0.1.1-2) ...\n",
      "Setting up libijs-0.35:amd64 (0.35-13) ...\n",
      "Setting up rubygems-integration (1.11) ...\n",
      "Setting up libpotrace0 (1.14-2) ...\n",
      "Setting up javascript-common (11) ...\n",
      "Setting up ruby-minitest (5.10.3-1) ...\n",
      "Setting up libzzip-0-13:amd64 (0.13.62-3.1ubuntu0.18.04.1) ...\n",
      "Setting up libgs9:amd64 (9.26~dfsg+0-0ubuntu0.18.04.14) ...\n",
      "Setting up libtexluajit2:amd64 (2017.20170613.44572-8ubuntu0.1) ...\n",
      "Setting up fonts-lmodern (2.004.5-3) ...\n",
      "Setting up ruby-power-assert (0.3.0-1) ...\n",
      "Setting up ghostscript (9.26~dfsg+0-0ubuntu0.18.04.14) ...\n",
      "Setting up texlive-binaries (2017.20170613.44572-8ubuntu0.1) ...\n",
      "update-alternatives: using /usr/bin/xdvi-xaw to provide /usr/bin/xdvi.bin (xdvi.bin) in auto mode\n",
      "update-alternatives: using /usr/bin/bibtex.original to provide /usr/bin/bibtex (bibtex) in auto mode\n",
      "Setting up texlive-base (2017.20180305-1) ...\n",
      "mktexlsr: Updating /var/lib/texmf/ls-R-TEXLIVEDIST... \n",
      "mktexlsr: Updating /var/lib/texmf/ls-R-TEXMFMAIN... \n",
      "mktexlsr: Updating /var/lib/texmf/ls-R... \n",
      "mktexlsr: Done.\n",
      "tl-paper: setting paper size for dvips to a4: /var/lib/texmf/dvips/config/config-paper.ps\n",
      "tl-paper: setting paper size for dvipdfmx to a4: /var/lib/texmf/dvipdfmx/dvipdfmx-paper.cfg\n",
      "tl-paper: setting paper size for xdvi to a4: /var/lib/texmf/xdvi/XDvi-paper\n",
      "tl-paper: setting paper size for pdftex to a4: /var/lib/texmf/tex/generic/config/pdftexconfig.tex\n",
      "debconf: unable to initialize frontend: Dialog\n",
      "debconf: (No usable dialog-like program is installed, so the dialog based frontend cannot be used. at /usr/share/perl5/Debconf/FrontEnd/Dialog.pm line 76.)\n",
      "debconf: falling back to frontend: Readline\n",
      "Setting up texlive-fonts-recommended (2017.20180305-1) ...\n",
      "Setting up texlive-plain-generic (2017.20180305-2) ...\n",
      "Setting up texlive-latex-base (2017.20180305-1) ...\n",
      "Setting up lmodern (2.004.5-3) ...\n",
      "Setting up texlive-latex-recommended (2017.20180305-1) ...\n",
      "Setting up texlive-pictures (2017.20180305-1) ...\n",
      "Setting up dvipng (1.15-1) ...\n",
      "Setting up tipa (2:1.3-20) ...\n",
      "Regenerating '/var/lib/texmf/fmtutil.cnf-DEBIAN'... done.\n",
      "Regenerating '/var/lib/texmf/fmtutil.cnf-TEXLIVEDIST'... done.\n",
      "update-fmtutil has updated the following file(s):\n",
      "\t/var/lib/texmf/fmtutil.cnf-DEBIAN\n",
      "\t/var/lib/texmf/fmtutil.cnf-TEXLIVEDIST\n",
      "If you want to activate the changes in the above file(s),\n",
      "you should run fmtutil-sys or fmtutil.\n",
      "Setting up cm-super-minimal (0.3.4-11) ...\n",
      "Setting up texlive-latex-extra (2017.20180305-2) ...\n",
      "Setting up cm-super (0.3.4-11) ...\n",
      "Creating fonts. This may take some time... done.\n",
      "Setting up rake (12.3.1-1ubuntu0.1) ...\n",
      "Setting up ruby2.5 (2.5.1-1ubuntu1.10) ...\n",
      "Setting up ruby (1:2.5.1) ...\n",
      "Setting up ruby-test-unit (3.2.5-1) ...\n",
      "Setting up libruby2.5:amd64 (2.5.1-1ubuntu1.10) ...\n",
      "Processing triggers for mime-support (3.60ubuntu1) ...\n",
      "Processing triggers for libc-bin (2.27-3ubuntu1.3) ...\n",
      "/sbin/ldconfig.real: /usr/local/lib/python3.7/dist-packages/ideep4py/lib/libmkldnn.so.0 is not a symbolic link\n",
      "\n",
      "Processing triggers for man-db (2.8.3-2ubuntu0.1) ...\n",
      "Processing triggers for fontconfig (2.12.6-0ubuntu2) ...\n",
      "Processing triggers for tex-common (6.09) ...\n",
      "debconf: unable to initialize frontend: Dialog\n",
      "debconf: (No usable dialog-like program is installed, so the dialog based frontend cannot be used. at /usr/share/perl5/Debconf/FrontEnd/Dialog.pm line 76.)\n",
      "debconf: falling back to frontend: Readline\n",
      "Running updmap-sys. This may take some time... done.\n",
      "Running mktexlsr /var/lib/texmf ... done.\n",
      "Building format(s) --all.\n",
      "\tThis may take some time... done.\n",
      "Collecting SciencePlots\n",
      "  Downloading SciencePlots-1.0.9.tar.gz (10 kB)\n",
      "  Installing build dependencies ... \u001b[?25l\u001b[?25hdone\n",
      "\u001b[33m  WARNING: Missing build requirements in pyproject.toml for SciencePlots from https://files.pythonhosted.org/packages/c2/44/7b5c0ecd6f2862671a076425546f86ac540bc48c1a618a82d6faa3b26f58/SciencePlots-1.0.9.tar.gz#sha256=2b002f263734a718acdf1e5be57f0de5ee887e70517dfbe1118a27d0ee3dfb0f.\u001b[0m\n",
      "\u001b[33m  WARNING: The project does not specify a build backend, and pip cannot fall back to setuptools without 'wheel'.\u001b[0m\n",
      "  Getting requirements to build wheel ... \u001b[?25l\u001b[?25hdone\n",
      "  Installing backend dependencies ... \u001b[?25l\u001b[?25hdone\n",
      "    Preparing wheel metadata ... \u001b[?25l\u001b[?25hdone\n",
      "Requirement already satisfied: matplotlib in /usr/local/lib/python3.7/dist-packages (from SciencePlots) (3.2.2)\n",
      "Requirement already satisfied: python-dateutil>=2.1 in /usr/local/lib/python3.7/dist-packages (from matplotlib->SciencePlots) (2.8.2)\n",
      "Requirement already satisfied: cycler>=0.10 in /usr/local/lib/python3.7/dist-packages (from matplotlib->SciencePlots) (0.10.0)\n",
      "Requirement already satisfied: kiwisolver>=1.0.1 in /usr/local/lib/python3.7/dist-packages (from matplotlib->SciencePlots) (1.3.2)\n",
      "Requirement already satisfied: pyparsing!=2.0.4,!=2.1.2,!=2.1.6,>=2.0.1 in /usr/local/lib/python3.7/dist-packages (from matplotlib->SciencePlots) (2.4.7)\n",
      "Requirement already satisfied: numpy>=1.11 in /usr/local/lib/python3.7/dist-packages (from matplotlib->SciencePlots) (1.19.5)\n",
      "Requirement already satisfied: six in /usr/local/lib/python3.7/dist-packages (from cycler>=0.10->matplotlib->SciencePlots) (1.15.0)\n",
      "Building wheels for collected packages: SciencePlots\n",
      "  Building wheel for SciencePlots (PEP 517) ... \u001b[?25l\u001b[?25hdone\n",
      "  Created wheel for SciencePlots: filename=SciencePlots-1.0.9-py3-none-any.whl size=6483 sha256=8ddc7f8eef80214425082a1dd86637aea696f4b2e1bbecc3c7a67bd0a971afd8\n",
      "  Stored in directory: /root/.cache/pip/wheels/37/f8/e9/b2f53a40b336388dfc57b108150daff7d6ffbbfc618dba3924\n",
      "Successfully built SciencePlots\n",
      "Installing collected packages: SciencePlots\n",
      "Successfully installed SciencePlots-1.0.9\n"
     ]
    }
   ],
   "source": [
    "import numpy as np\n",
    "import torch\n",
    "import matplotlib.pyplot as plt\n",
    "from matplotlib.lines import Line2D\n",
    "import matplotlib.patches as patches\n",
    "\n",
    "import torch.nn.functional as F\n",
    "from torch import nn\n",
    "from tqdm.notebook import tqdm\n",
    "from tqdm import tqdm\n",
    "import time\n",
    "\n",
    "# science plots requirements\n",
    "!apt-get update\n",
    "!sudo apt-get install dvipng texlive-latex-extra texlive-fonts-recommended cm-super\n",
    "!pip install SciencePlots\n",
    "import matplotlib.pyplot as plt\n",
    "plt.style.reload_library()\n",
    "plt.style.use('science')\n",
    "\n",
    "device = 'cuda' if torch.cuda.is_available() else 'cpu'\n"
   ]
  },
  {
   "cell_type": "code",
   "execution_count": 4,
   "metadata": {
    "colab": {
     "base_uri": "https://localhost:8080/"
    },
    "id": "Yx8UXJk-Z9cy",
    "outputId": "4287b2e6-d70b-4a91-ef8c-3a2900c511fc"
   },
   "outputs": [
    {
     "name": "stdout",
     "output_type": "stream",
     "text": [
      "0.5519\n"
     ]
    }
   ],
   "source": [
    "# data generation\n",
    "def generate_seq(seq_len=20, window_len=4):\n",
    "    seq = np.random.randint(0, 2, seq_len)\n",
    "    zeros = np.zeros(window_len)\n",
    "    ones = np.ones(window_len)\n",
    "    for i in range(window_len, seq_len+1):\n",
    "        sub_seq = seq[i-window_len:i]\n",
    "        if np.array_equal(sub_seq, zeros) or np.array_equal(sub_seq, ones):\n",
    "            return seq, 1, i-1\n",
    "    return seq, 0, 0\n",
    "\n",
    "labs = []\n",
    "for i in range(10000):\n",
    "    _, l, _ = generate_seq(seq_len=25, window_len=5)\n",
    "    labs.append(l)\n",
    "print(sum(labs)/len(labs))  # ratio of pos labels to neg\n",
    "\n",
    "\n",
    "def generate_batch(size=64):\n",
    "    seqs, labels, idxs = [], [], []\n",
    "    for _ in range(size):\n",
    "        seq, lab, idx = generate_seq(seq_len=25, window_len=5)\n",
    "        seqs.append(seq)\n",
    "        labels.append(lab)\n",
    "        idxs.append(idx)\n",
    "    X = torch.tensor(seqs, dtype=torch.float32)\n",
    "    y = torch.tensor(labels, dtype=torch.float32)\n",
    "    idxs = torch.tensor(idxs)\n",
    "    return X, y, idxs\n",
    "\n",
    "X, y, idxs = generate_batch()"
   ]
  },
  {
   "cell_type": "code",
   "execution_count": 75,
   "metadata": {
    "colab": {
     "base_uri": "https://localhost:8080/",
     "height": 295
    },
    "id": "AffL4LmsaCfH",
    "outputId": "1812ad65-3c7c-495f-e515-daada27126b8"
   },
   "outputs": [
    {
     "data": {
      "image/png": "[encoded data removed]",
      "text/plain": [
       "<Figure size 1080x360 with 2 Axes>"
      ]
     },
     "metadata": {
      "needs_background": "light"
     },
     "output_type": "display_data"
    }
   ],
   "source": [
    "np.random.seed(2)\n",
    "torch.manual_seed(2)\n",
    "\n",
    "# parameters\n",
    "face_col = plt.cm.Blues(0.2*(0.6/0.4) + 0.4)\n",
    "edge_col = plt.cm.Blues(0.4*(0.6/0.4) + 0.4)\n",
    "box_col = plt.cm.Greens(0.2*(6/4) + 0.4)\n",
    "\n",
    "\n",
    "# make plot\n",
    "fig, (ax1, ax2) = plt.subplots(2, 1, figsize=(15,5))\n",
    "ax1.set_yticks([0,1])\n",
    "ax1.tick_params(axis='y', labelsize=15)\n",
    "ax1.set_xticklabels([])\n",
    "\n",
    "seq, l, idx = generate_seq(seq_len=25, window_len=5)\n",
    "# plt.step(np.arange(0, 25), seq, zorder=1)\n",
    "ax1.scatter(np.arange(1, 26), seq, marker='8', s=200, facecolor=face_col, edgecolors=edge_col, linewidth=2)\n",
    "\n",
    "rect = patches.Rectangle((idx-3-0.5, 1-0.1), 5, 0.2, linewidth=3, edgecolor=box_col, facecolor='none')\n",
    "ax1.add_patch(rect)\n",
    "ax1.set_ylim([-0.15, 1.15])\n",
    "\n",
    "np.random.seed(3)\n",
    "torch.manual_seed(3)\n",
    "ax2.set_yticks([0,1])\n",
    "ax2.tick_params(axis='y', labelsize=15)\n",
    "ax2.set_xticklabels([])\n",
    "\n",
    "seq, l, idx = generate_seq(seq_len=25, window_len=5)\n",
    "# plt.step(np.arange(0, 25), seq, zorder=1)\n",
    "ax2.scatter(np.arange(1, 26), seq, marker='8', s=200, facecolor=face_col, edgecolors=edge_col, linewidth=2)\n",
    "\n",
    "ax2.set_ylim([-0.15, 1.15])\n",
    "\n",
    "plt.savefig('seqof5_data.pdf', dpi = 1200)\n",
    "plt.show()"
   ]
  },
  {
   "cell_type": "code",
   "execution_count": 5,
   "metadata": {
    "id": "m81X9rnif962"
   },
   "outputs": [],
   "source": []
  },
  {
   "cell_type": "code",
   "execution_count": 6,
   "metadata": {
    "id": "VSyLE-TRaCkO"
   },
   "outputs": [],
   "source": [
    "torch.manual_seed(3)\n",
    "\n",
    "class LSTM(nn.Module):\n",
    "    def __init__(self, input_size, output_size, nhid, f_bias=True):\n",
    "        super(LSTM, self).__init__()\n",
    "        self.nhid = nhid\n",
    "        self.lstm = nn.LSTM(input_size, nhid, batch_first=True)\n",
    "        self.linear = nn.Linear(nhid, output_size)\n",
    "\n",
    "    def forward(self, inputs):\n",
    "        \"\"\"Inputs have to have dimension (N, C_in, L_in)\"\"\"\n",
    "        h0 = torch.zeros(1, inputs.size(0), self.nhid).to(device) \n",
    "        c0 = torch.zeros(1, inputs.size(0), self.nhid).to(device)\n",
    "        y1, _ = self.lstm(inputs, (h0, c0))  # input should have dimension (B, S, I)\n",
    "        o = self.linear(y1)\n",
    "        return o"
   ]
  },
  {
   "cell_type": "code",
   "execution_count": 7,
   "metadata": {
    "id": "T-G6uDzB1dp2"
   },
   "outputs": [],
   "source": [
    "# CUSTOM LOSS EVALUATION \n",
    "\n",
    "# if obs has true label 1:\n",
    "#     if pred label = 0:\n",
    "#         loss = 1  [loss1]\n",
    "#     if pred label = 1:\n",
    "#         if model output spiked:\n",
    "#             if model spike >= optimal spike:\n",
    "#                 loss = (model spike - optimal spike)/(seq len)  [loss2]\n",
    "#             if model spike < optimal spike:\n",
    "#                 loss = 1 (this was a lucky guess)  [loss3]\n",
    "#         if model output didnt spike:\n",
    "#             loss = (seq len - optimal spike)/(seq len)  [loss4]\n",
    "# if obs has true label 0:\n",
    "#     if pred label = 0:\n",
    "#         loss = 0  [loss5]\n",
    "#     if pred label = 1:\n",
    "#         loss = 1  [loss6]\n",
    "\n",
    "def custom_loss(preds, spikes, y, opt_idx, seq_len=25, window_size=5):\n",
    "    \"\"\"\n",
    "    Custom loss for evaluating performance.\n",
    "\n",
    "    Args:\n",
    "      preds (torch tensor): Raw predictions.\n",
    "      spikes (torch tensor): Tensor of binary spikes.\n",
    "      y (torch tensor): True labels.\n",
    "      opt_idx (torch tensor): Ground truth optimal spike indexes. \n",
    "      seq_len (int): Length of the sequence.\n",
    "      window_size (int): Size of window of consecutive values.\n",
    "    \"\"\"\n",
    "    preds = torch.round(preds)\n",
    "    first_spike_idx = torch.argmax(spikes, dim=1).squeeze(-1)\n",
    "    normaliser = seq_len - window_size\n",
    "\n",
    "    loss1 = (y == 1) * (preds == 0)\n",
    "    loss2 = (y == 1) * (preds == 1) * (first_spike_idx != 0) * (first_spike_idx >= opt_idx)\n",
    "    loss2 = loss2 * (first_spike_idx - opt_idx)/normaliser\n",
    "    loss3 = (y == 1) * (preds == 1) * (first_spike_idx != 0) * (first_spike_idx < opt_idx)\n",
    "    loss4 = (y == 1) * (preds == 1) * (first_spike_idx == 0) * (seq_len - opt_idx)/normaliser\n",
    "    loss5 = torch.tensor([0])\n",
    "    loss6 = (y == 0) * (preds == 1)\n",
    "    loss_ls = [loss1, loss2, loss3, loss4, loss5, loss6]\n",
    "    total_loss = np.sum([torch.sum(loss).item() for loss in loss_ls])/y.size(0)\n",
    "    return total_loss"
   ]
  },
  {
   "cell_type": "code",
   "execution_count": 8,
   "metadata": {
    "id": "MZ64fAZXQdMX"
   },
   "outputs": [],
   "source": [
    "# helper functions \n",
    "\n",
    "def gather_spiking_preds(spikes, out, last_idx=24):\n",
    "      \"\"\"\n",
    "      Gather predictions based on first spike or final output if no spike\n",
    "      occurs. \n",
    "\n",
    "      Args:\n",
    "          spikes (torch tensor): Tensor of binary spikes.\n",
    "          out (torch tensor): Tensor of all model predictions.\n",
    "          y (torch tensor)\n",
    "          last_idx (int): Index of the final element in the sequence.\n",
    "\n",
    "      Returns:\n",
    "          Torch tensor: Outputs at these spiking values.\n",
    "          Int: Number of observations in which no spike occured.\n",
    "      \"\"\"\n",
    "      first_spike_idx = torch.argmax(spikes, dim=1, keepdim=True)\n",
    "      no_spike_count = torch.sum(first_spike_idx == 0).item()\n",
    "      # replace no spike with last idx for prediction\n",
    "      first_spike_idx[first_spike_idx == 0] = last_idx\n",
    "      preds = torch.gather(out, 1, first_spike_idx)  \n",
    "      preds = preds.squeeze(-1).squeeze(-1)\n",
    "      return preds, no_spike_count\n",
    "\n"
   ]
  },
  {
   "cell_type": "code",
   "execution_count": 9,
   "metadata": {
    "id": "ZLtBT1hRZE_W"
   },
   "outputs": [],
   "source": [
    "# calculate mean spike time for both classes\n",
    "def calc_mean_spike_times(spikes, y):\n",
    "    first_spike_idx = torch.argmax(spikes, dim=1).squeeze(-1)\n",
    "    class_0_spikes = first_spike_idx[(first_spike_idx > 0) * (y == 0)]\n",
    "    class_1_spikes = first_spike_idx[(first_spike_idx > 0) * (y == 1)]\n",
    "    class_0_mean = class_0_spikes.sum()/class_0_spikes.size(0)\n",
    "    class_1_mean = class_1_spikes.sum()/class_1_spikes.size(0)\n",
    "    return class_0_mean.item(), class_1_mean.item()\n",
    "\n",
    "# calculate average lag between optimal spike and observed spike\n",
    "def calc_mean_lag(spikes, preds, y, opt_idx):\n",
    "    first_spike_idx = torch.argmax(spikes, dim=1).squeeze(-1)\n",
    "    preds = torch.round(preds)\n",
    "    spiking_obs = (y == 1) * (preds == 1) * (first_spike_idx != 0) \n",
    "    lags = first_spike_idx[spiking_obs] - opt_idx[spiking_obs]\n",
    "    early_spikes = torch.sum(lags < 0).item()\n",
    "    lags = lags[lags >= 0]  # remove early spikes\n",
    "    mean_lag = (lags.sum()/lags.size(0)).item()\n",
    "    return mean_lag, early_spikes\n"
   ]
  },
  {
   "cell_type": "code",
   "execution_count": 86,
   "metadata": {
    "colab": {
     "base_uri": "https://localhost:8080/"
    },
    "id": "LazqXlR8dFdq",
    "outputId": "95b465a7-f2cd-4096-9258-058248829282"
   },
   "outputs": [
    {
     "data": {
      "text/plain": [
       "torch.Size([128])"
      ]
     },
     "execution_count": 86,
     "metadata": {},
     "output_type": "execute_result"
    }
   ],
   "source": [
    "torch.repeat_interleave(torch.tensor([24]), BATCH_SIZE).shape"
   ]
  },
  {
   "cell_type": "code",
   "execution_count": 130,
   "metadata": {
    "colab": {
     "base_uri": "https://localhost:8080/"
    },
    "id": "Efmq_1o2aCnP",
    "outputId": "9ce9e060-e2ae-467b-ee31-a0a6c6d75dff"
   },
   "outputs": [
    {
     "name": "stdout",
     "output_type": "stream",
     "text": [
      "################## TRAINING ##################\n",
      "Training 1000000 examples in batches of size 128\n",
      "resulting in 7813 batches\n",
      "##############################################\n",
      "\n"
     ]
    },
    {
     "name": "stderr",
     "output_type": "stream",
     "text": [
      "100%|██████████| 7813/7813 [04:22<00:00, 29.82it/s]\n"
     ]
    },
    {
     "name": "stdout",
     "output_type": "stream",
     "text": [
      "\n",
      "Final loss: 0.400375\n"
     ]
    }
   ],
   "source": [
    "model = LSTM(1, 1, 125)\n",
    "model.to(device)\n",
    "optimiser = torch.optim.Adam(model.parameters(), lr=0.0003)\n",
    "criterion = torch.nn.BCELoss()\n",
    "s = nn.Sigmoid()\n",
    "\n",
    "NUM_TRAIN_EXAMPLES = 1000000\n",
    "BATCH_SIZE = 128\n",
    "VALIDATION_SIZE = 2000\n",
    "VALIDATION_FREQ = 50\n",
    "PATH = '/model_weights'\n",
    "\n",
    "best_loss = 99999\n",
    "loss_ls = []\n",
    "spiking_acc_ls = []\n",
    "custom_loss_ls = []\n",
    "class_0_spike_times_ls = []\n",
    "class_1_spike_times_ls = []\n",
    "mean_lag_ls = []\n",
    "early_spike_count_ls = []\n",
    "num_batches = int(np.ceil(NUM_TRAIN_EXAMPLES/BATCH_SIZE))\n",
    "seq_lens = torch.repeat_interleave(torch.tensor([24]), BATCH_SIZE).unsqueeze(-1).unsqueeze(-1).to(device)\n",
    "print('################## TRAINING ##################')\n",
    "print('Training {} examples in batches of size {}'.format(NUM_TRAIN_EXAMPLES, BATCH_SIZE))\n",
    "print(f'resulting in {num_batches} batches')\n",
    "print('##############################################\\n')\n",
    "\n",
    "time.sleep(0.2)\n",
    "for i in tqdm(range(num_batches)):\n",
    "    ######################## TRAIN A BATCH ########################\n",
    "    # generate some training data \n",
    "    X, y, idxs = generate_batch(BATCH_SIZE)\n",
    "    X, y = X.to(device), y.to(device)\n",
    "    X.unsqueeze_(-1)\n",
    "    \n",
    "    # learn through network\n",
    "    model.train()\n",
    "    optimiser.zero_grad()\n",
    "    out = model(X)\n",
    "    out = s(out)\n",
    "    \n",
    "    # grab indixes of first spikes\n",
    "    # with torch.no_grad():\n",
    "    #     spikes = ((out < 0.05) * 1) + ((out > 0.95) * 1)\n",
    "    #     first_spike_idx = torch.argmax(spikes, dim=1, keepdim=True)\n",
    "    #     first_spike_idx[first_spike_idx == 0] = 24  # replace no spike with last idx\n",
    "\n",
    "        \n",
    "    # preds = torch.gather(out, 1, first_spike_idx) \n",
    "    preds = torch.gather(out, 1, seq_lens)  \n",
    "    preds = preds.squeeze(-1).squeeze(-1)\n",
    "    \n",
    "    loss = criterion(preds, y)\n",
    "    loss_ls.append(loss.item())\n",
    "    loss.backward()\n",
    "    optimiser.step()\n",
    "    \n",
    "    ######################## VALIDATION SET ########################\n",
    "    if i % VALIDATION_FREQ == 0:\n",
    "      model.eval()\n",
    "      with torch.no_grad():\n",
    "          X, y, opt_idx = generate_batch(VALIDATION_SIZE)\n",
    "          X, y, opt_idx = X.to(device), y.to(device), opt_idx.to(device)\n",
    "          X.unsqueeze_(-1)\n",
    "          out = model(X)\n",
    "          out = s(out)\n",
    "          \n",
    "          # generate tensor of spikes\n",
    "          spikes = ((out < 0.05) * 1) + ((out > 0.95) * 1)\n",
    "          preds, _ = gather_spiking_preds(spikes, out)\n",
    "\n",
    "          # spiking accuracy\n",
    "          spiking_acc_val = (torch.sum(y == torch.round(preds))/y.size(0)).item()\n",
    "          spiking_acc_ls.append(spiking_acc_val)\n",
    "\n",
    "          # custom loss score\n",
    "          custom_loss_val = custom_loss(preds, spikes, y, opt_idx)\n",
    "          custom_loss_ls.append(custom_loss_val)\n",
    "\n",
    "          # store mean spike times\n",
    "          mean_spike_times = calc_mean_spike_times(spikes, y)\n",
    "          class_0_spike_times_ls.append(mean_spike_times[0])\n",
    "          class_1_spike_times_ls.append(mean_spike_times[1])\n",
    "\n",
    "          # evaluate mean lag between optimal and predicted spikes\n",
    "          mean_lag, early_spike_count = calc_mean_lag(spikes, preds, y, opt_idx)\n",
    "          mean_lag_ls.append(mean_lag)\n",
    "          early_spike_count_ls.append(early_spike_count)\n",
    "\n",
    "          # save model if better than current best\n",
    "          if (custom_loss_val < best_loss) and (i > num_batches * 0.9):\n",
    "              # save the model \n",
    "              best_loss = custom_loss_val\n",
    "              torch.save(model.state_dict(), PATH)\n",
    "\n",
    "time.sleep(0.2)    \n",
    "    \n",
    "    \n",
    "print('\\nFinal loss:', best_loss)"
   ]
  },
  {
   "cell_type": "code",
   "execution_count": 90,
   "metadata": {
    "colab": {
     "base_uri": "https://localhost:8080/"
    },
    "id": "yKxedFfE9tHr",
    "outputId": "83a0766f-803e-4c19-9703-99f63322f1ac"
   },
   "outputs": [
    {
     "data": {
      "text/plain": [
       "torch.Size([128, 1, 1])"
      ]
     },
     "execution_count": 90,
     "metadata": {},
     "output_type": "execute_result"
    }
   ],
   "source": []
  },
  {
   "cell_type": "code",
   "execution_count": 115,
   "metadata": {
    "colab": {
     "base_uri": "https://localhost:8080/",
     "height": 226
    },
    "id": "kdLBVy2caCpi",
    "outputId": "8ba0f4c4-cb43-4db1-fa57-02475c0b9c42"
   },
   "outputs": [
    {
     "data": {
      "image/png": "[encoded data removed]",
      "text/plain": [
       "<Figure size 1008x216 with 3 Axes>"
      ]
     },
     "metadata": {
      "needs_background": "light"
     },
     "output_type": "display_data"
    }
   ],
   "source": [
    "plt.figure(figsize=(14,3))\n",
    "plt.subplot(1, 3, 1)\n",
    "plt.plot(loss_ls)\n",
    "plt.xlabel('Training Batch')\n",
    "plt.title('Training Loss')\n",
    "\n",
    "plt.subplot(1, 3, 2)\n",
    "xvals = np.arange(len(spiking_acc_ls)) * VALIDATION_FREQ\n",
    "plt.plot(xvals, spiking_acc_ls)\n",
    "plt.xlabel('Training Batch')\n",
    "plt.title('Validation Accuracy')\n",
    "\n",
    "plt.subplot(1, 3, 3)\n",
    "plt.plot(xvals, custom_loss_ls)\n",
    "plt.xlabel('Training Batch')\n",
    "plt.title('Custom Loss')\n",
    "\n",
    "plt.show()"
   ]
  },
  {
   "cell_type": "code",
   "execution_count": 12,
   "metadata": {
    "colab": {
     "base_uri": "https://localhost:8080/",
     "height": 335
    },
    "id": "mzyPHlh0bzQl",
    "outputId": "b2e2c3c1-1c08-40be-a58e-b0eb3e335768"
   },
   "outputs": [
    {
     "data": {
      "image/png": "[encoded data removed]",
      "text/plain": [
       "<Figure size 864x360 with 1 Axes>"
      ]
     },
     "metadata": {
      "needs_background": "light"
     },
     "output_type": "display_data"
    }
   ],
   "source": [
    "# plot the average first spike times by class during training (of observations that do spike)\n",
    "plt.figure(figsize=(12,5))\n",
    "xvals = np.arange(len(class_0_spike_times_ls)) * VALIDATION_FREQ\n",
    "\n",
    "class_0_spike_times_arr = np.array(class_0_spike_times_ls)\n",
    "mask_0 = class_0_spike_times_arr > 0\n",
    "plt.xlim(0, len(xvals))\n",
    "plt.plot(xvals[mask_0], class_0_spike_times_arr[mask_0], linestyle='-',\n",
    "         marker='o', label='Class 0')\n",
    "\n",
    "class_1_spike_times_arr = np.array(class_1_spike_times_ls)\n",
    "mask_1 = class_1_spike_times_arr > 0\n",
    "plt.xlim(0, xvals[-1])\n",
    "plt.plot(xvals[mask_1], class_1_spike_times_arr[mask_1], linestyle='-',\n",
    "         marker='o', label='Class 1')\n",
    "\n",
    "plt.title('Mean First Spike Times by Class')\n",
    "plt.ylabel('Mean Spike Time')\n",
    "plt.xlabel('Batch')\n",
    "plt.ylim(10,25)\n",
    "plt.grid()\n",
    "plt.legend(loc='best')\n",
    "plt.show()"
   ]
  },
  {
   "cell_type": "code",
   "execution_count": 13,
   "metadata": {
    "colab": {
     "base_uri": "https://localhost:8080/",
     "height": 336
    },
    "id": "Si64TXPN7Gbq",
    "outputId": "c647dd50-0b82-4b2a-c1b0-946db84aef98"
   },
   "outputs": [
    {
     "data": {
      "image/png": "[encoded data removed]",
      "text/plain": [
       "<Figure size 1584x360 with 2 Axes>"
      ]
     },
     "metadata": {
      "needs_background": "light"
     },
     "output_type": "display_data"
    }
   ],
   "source": [
    "# plot lag between optimal first spike and observed first spike on observations\n",
    "# in class 1 that did spike and did not spike early\n",
    "plt.figure(figsize=(22,5))\n",
    "plt.subplot(1, 2, 1)\n",
    "xvals = np.arange(len(mean_lag_ls)) * VALIDATION_FREQ\n",
    "mean_lag_arr = np.array(mean_lag_ls)\n",
    "mask = mean_lag_arr > 0\n",
    "plt.plot(xvals[mask], mean_lag_arr[mask], linestyle='-',\n",
    "         marker='o', label='Label')\n",
    "plt.ylim(-0.3,18)\n",
    "plt.ylabel('Mean time lag')\n",
    "plt.xlabel('Batch')\n",
    "plt.title('Mean lag between optimal first spike and observed first spike')\n",
    "# plt.show()\n",
    "\n",
    "plt.subplot(1, 2, 2)\n",
    "plt.plot(xvals, early_spike_count_ls, linestyle='-',\n",
    "         marker='o', label='Label')\n",
    "plt.ylabel('Count')\n",
    "plt.xlabel('Batch')\n",
    "plt.title(f'Number of early spikes per batch (size = {BATCH_SIZE})')\n",
    "plt.show()"
   ]
  },
  {
   "cell_type": "code",
   "execution_count": 131,
   "metadata": {
    "colab": {
     "base_uri": "https://localhost:8080/"
    },
    "id": "HRweEphNaTci",
    "outputId": "0a704cdf-de99-4256-f4db-134bd9498023"
   },
   "outputs": [
    {
     "name": "stdout",
     "output_type": "stream",
     "text": [
      "Final output accuracy: 1.0\n",
      "Accuracy if evaluated on first spike: 0.5819000005722046\n",
      "(including 0 observations with no spikes)\n",
      "Custom loss: 0.426375\n"
     ]
    }
   ],
   "source": [
    "np.random.seed(1)\n",
    "torch.manual_seed(1)\n",
    "\n",
    "# load best model and evaluate on test set\n",
    "model = LSTM(1, 1, 125)\n",
    "model.load_state_dict(torch.load(PATH))\n",
    "model.to(device)\n",
    "\n",
    "######################## TEST SET ########################\n",
    "TEST_SIZE = 10000\n",
    "model.eval()\n",
    "with torch.no_grad():\n",
    "    X, y, opt_idx = generate_batch(TEST_SIZE)\n",
    "    X, y, opt_idx = X.to(device), y.to(device), opt_idx.to(device)\n",
    "    X.unsqueeze_(-1)\n",
    "    out = model(X)\n",
    "    out = s(out)\n",
    "\n",
    "    # generate tensors of spikes and preds\n",
    "    spikes = ((out < 0.05) * 1) + ((out > 0.95) * 1)\n",
    "    preds, no_spike_count = gather_spiking_preds(spikes, out)\n",
    "\n",
    "    # spiking accuracy\n",
    "    spike_acc = torch.sum(y == torch.round(preds))/y.size(0)\n",
    "    # final output accuracy\n",
    "    reg_acc = torch.sum(torch.round(out[:,-1].squeeze(-1)) == y)/y.size(0)\n",
    "    # custom loss value\n",
    "    custom_loss_val = custom_loss(preds, spikes, y, opt_idx)\n",
    "    \n",
    "print('Final output accuracy:', reg_acc.item())\n",
    "print('Accuracy if evaluated on first spike:', spike_acc.item())\n",
    "print(f'(including {no_spike_count} observations with no spikes)')\n",
    "print('Custom loss:', custom_loss_val)\n"
   ]
  },
  {
   "cell_type": "code",
   "execution_count": 133,
   "metadata": {
    "colab": {
     "base_uri": "https://localhost:8080/",
     "height": 601
    },
    "id": "wemxqIUbl1Fa",
    "outputId": "5bb18a9a-5a1d-4b57-9855-6f4dc6045a3e"
   },
   "outputs": [
    {
     "data": {
      "image/png": "[encoded data removed]",
      "text/plain": [
       "<Figure size 1080x720 with 4 Axes>"
      ]
     },
     "metadata": {
      "needs_background": "light"
     },
     "output_type": "display_data"
    }
   ],
   "source": [
    "# POSTERIOR PLOT\n",
    "\n",
    "# parameters\n",
    "text_size = 15\n",
    "tick_label_size = 13\n",
    "show_full = True\n",
    "model = 'EOS'  # 'RC' or 'EOS'\n",
    "\n",
    "num_obs = 50\n",
    "# gather data\n",
    "post = out[:num_obs].cpu().numpy().squeeze(-1).T\n",
    "labels = y[:num_obs].unsqueeze(0).cpu().numpy()\n",
    "opt_spike = opt_idx[:num_obs].cpu().numpy()\n",
    "spikes_out = ((out < 0.05) * -1) + ((out > 0.95) * 1)\n",
    "spikes_out = spikes_out[:num_obs].cpu().numpy().squeeze(-1).T\n",
    "first_spike_idx = torch.argmax(spikes, dim=1, keepdim=True)\n",
    "first_spike_idx[first_spike_idx == 0] = 25  # to do maybe\n",
    "first_spike_idx = first_spike_idx.squeeze().squeeze()\n",
    "first_spikes = first_spike_idx[:num_obs].cpu().numpy()\n",
    "preds = []\n",
    "# gather predictions\n",
    "for idx in range(num_obs):\n",
    "  # no spike\n",
    "  if first_spike_idx[idx] == 25:\n",
    "    preds.append(0.5)\n",
    "  else:\n",
    "    if model == 'RC':\n",
    "      pred = int(np.round(post[first_spikes[idx],idx]))\n",
    "      preds.append(pred)\n",
    "    else:\n",
    "      if labels[0,idx] == 0:\n",
    "        preds.append(0.5)\n",
    "      else:\n",
    "        pred = (np.max(post[:,idx]) > 0.95)*1\n",
    "        preds.append(pred)\n",
    "\n",
    "\n",
    "# only show up to first spike\n",
    "if not show_full:\n",
    "  for idx in range(num_obs):\n",
    "    spikes_out[first_spikes[idx]+1:,idx] = 0\n",
    "    post[first_spikes[idx]+1:,idx] = 0.5\n",
    "  \n",
    "\n",
    "# make plot\n",
    "fig, (ax0, ax1, ax2, ax3) = plt.subplots(4, 1, figsize=(15,10), gridspec_kw={'height_ratios': [1,1,10,10]})\n",
    "# true labels\n",
    "ax0.imshow(labels*-1, cmap='coolwarm')\n",
    "ax0.set_yticks([0])\n",
    "ax0.set_xticks([])\n",
    "ax0.tick_params(axis='y', labelsize=text_size)\n",
    "ax0.set_yticklabels(['True labels'])\n",
    "ax0.set_xticks(np.arange(-.5, num_obs, 1), minor=True)\n",
    "ax0.set_axisbelow(True)\n",
    "ax0.grid(which='minor')\n",
    "\n",
    "# model predictions\n",
    "ax1.imshow(np.array(preds)[None,:]*-1, cmap='coolwarm', vmin=-1, vmax=0)\n",
    "ax1.set_yticks([0])\n",
    "ax1.set_xticks([])\n",
    "ax1.tick_params(axis='y', labelsize=text_size)\n",
    "ax1.set_yticklabels([f'{model} labels'])\n",
    "ax1.set_xticks(np.arange(-.5, num_obs, 1), minor=True)\n",
    "ax1.set_axisbelow(True)\n",
    "ax1.grid(which='minor')\n",
    "\n",
    "# spikes\n",
    "ax2.imshow(spikes_out*-1, origin='lower', aspect='auto', cmap='coolwarm')\n",
    "for idx in range(num_obs):\n",
    "  if labels[0,idx] == 1:      \n",
    "    rect = patches.Rectangle((idx-0.5, opt_spike[idx]-4-0.5), 1, 5, linewidth=3, edgecolor='black', facecolor='none')\n",
    "    ax2.add_patch(rect)\n",
    "ax2.set_ylabel(f'{model} spikes\\nIndex in sequence', size=text_size+4)\n",
    "# ax2.set_xlabel('Test set sequences', size=text_size+4)\n",
    "ax2.set_xticks([0,9,19,29,39,49])\n",
    "ax2.tick_params(axis='x', labelsize=tick_label_size)\n",
    "ax2.set_xticklabels([1,10,20,30,40,50])\n",
    "ax2.tick_params(axis='y', labelsize=tick_label_size)\n",
    "ax2.set_xticks(np.arange(-.5, num_obs, 1), minor=True)\n",
    "ax2.set_yticks(np.arange(-.5, 25, 1), minor=True)\n",
    "ax2.set_axisbelow(True)\n",
    "ax2.grid(which='minor')\n",
    "\n",
    "# posteriors\n",
    "ax3.imshow(post*-1, origin='lower', aspect='auto', cmap='coolwarm')\n",
    "for idx in range(num_obs):\n",
    "  if labels[0,idx] == 1:      \n",
    "    rect = patches.Rectangle((idx-0.5, opt_spike[idx]-4-0.5), 1, 5, linewidth=3, edgecolor='black', facecolor='none')\n",
    "    ax3.add_patch(rect)\n",
    "ax3.set_ylabel(f'{model} posteriors\\nIndex in sequence', size=text_size+4)\n",
    "ax3.set_xlabel('Test set sequences', size=text_size+4)\n",
    "ax3.set_xticks([0,9,19,29,39,49])\n",
    "ax3.tick_params(axis='x', labelsize=tick_label_size)\n",
    "ax3.set_xticklabels([1,10,20,30,40,50])\n",
    "ax3.tick_params(axis='y', labelsize=tick_label_size)\n",
    "ax3.set_xticks(np.arange(-.5, num_obs, 1), minor=True)\n",
    "ax3.set_yticks(np.arange(-.5, 25, 1), minor=True)\n",
    "ax3.set_axisbelow(True)\n",
    "ax3.grid(which='minor')\n",
    "\n",
    "plt.savefig('spike_plot.pdf', dpi = 1200)\n",
    "plt.show()"
   ]
  },
  {
   "cell_type": "code",
   "execution_count": 98,
   "metadata": {
    "id": "CZMrvEAMKQ6U"
   },
   "outputs": [],
   "source": []
  },
  {
   "cell_type": "code",
   "execution_count": null,
   "metadata": {
    "colab": {
     "base_uri": "https://localhost:8080/",
     "height": 227
    },
    "id": "mzjeUGKFbFuT",
    "outputId": "8d5cb0df-6f39-4993-f656-d40794735b73"
   },
   "outputs": [
    {
     "data": {
      "image/png": "[encoded data removed]",
      "text/plain": [
       "<Figure size 1008x216 with 2 Axes>"
      ]
     },
     "metadata": {
      "needs_background": "light",
      "tags": []
     },
     "output_type": "display_data"
    }
   ],
   "source": [
    "# plot when all spikes occur and first spike occurs across the sequence\n",
    "# Note: first spike at index 1 refers to observations that did not spike\n",
    "plt.figure(figsize=(14,3))\n",
    "plt.subplot(1, 2, 1)\n",
    "plt.bar(x=list(range(1,26)), height=spikes.cpu().sum(axis=0))\n",
    "plt.title('All spikes')\n",
    "plt.xticks(list(range(1,26)))\n",
    "\n",
    "plt.subplot(1, 2, 2)\n",
    "first_spike_idx = torch.argmax(spikes, dim=1).squeeze(-1)\n",
    "values, counts = first_spike_idx.unique(return_counts=True)\n",
    "heights = torch.zeros(25)\n",
    "for i, v in enumerate(values):\n",
    "    heights[v] = counts[i]\n",
    "plt.bar(x=list(range(1,26)), height=heights)\n",
    "plt.title('First spike')\n",
    "plt.xticks(list(range(1,26)))\n",
    "\n",
    "plt.show()"
   ]
  },
  {
   "cell_type": "code",
   "execution_count": null,
   "metadata": {
    "colab": {
     "base_uri": "https://localhost:8080/",
     "height": 281
    },
    "id": "QW8z7-pAbPyu",
    "outputId": "f7a0e2a9-e12b-4cff-f2e6-bdab9c9a35f0"
   },
   "outputs": [
    {
     "data": {
      "image/png": "[encoded data removed]",
      "text/plain": [
       "<Figure size 432x288 with 1 Axes>"
      ]
     },
     "metadata": {
      "needs_background": "light",
      "tags": []
     },
     "output_type": "display_data"
    }
   ],
   "source": [
    "# of the observations that should spike, what is the delay\n",
    "first_spike_idx = torch.argmax(spikes, dim=1).squeeze(-1)\n",
    "preds = torch.round(preds)\n",
    "spiking_obs = (y == 1) * (preds == 1) * (first_spike_idx != 0) \n",
    "lags = first_spike_idx[spiking_obs] - opt_idx[spiking_obs]\n",
    "values, counts = lags.unique(return_counts=True)\n",
    "plt.bar(x=values.cpu(), height=counts.cpu())\n",
    "plt.title('Lag between optimal spike and observed spike')\n",
    "plt.xticks(values.cpu())\n",
    "plt.show()"
   ]
  },
  {
   "cell_type": "code",
   "execution_count": null,
   "metadata": {
    "colab": {
     "base_uri": "https://localhost:8080/",
     "height": 350
    },
    "id": "7LW80lHe52fi",
    "outputId": "4f4d6fbc-60f0-4728-a0be-5977f415bd8f"
   },
   "outputs": [
    {
     "data": {
      "image/png": "[encoded data removed]",
      "text/plain": [
       "<Figure size 936x360 with 1 Axes>"
      ]
     },
     "metadata": {
      "needs_background": "light",
      "tags": []
     },
     "output_type": "display_data"
    }
   ],
   "source": [
    "# optimal spike time vs observed spike time\n",
    "\n",
    "N = 22\n",
    "\n",
    "# Data on X-axis\n",
    "\n",
    "# Specify the values of blue bars (height)\n",
    "values_opt, counts_opt = opt_idx[y == 1].unique(return_counts=True)\n",
    "blue_bar = np.zeros(25 - 4)\n",
    "cnt_to_append = 0\n",
    "for val, cnt in zip(values_opt, counts_opt):\n",
    "  if val > 0:\n",
    "    blue_bar[val - 4] = cnt.item()\n",
    "  else:\n",
    "    cnt_to_append = cnt.item()\n",
    "blue_bar = np.append(blue_bar, cnt_to_append)\n",
    "\n",
    "# Specify the values of orange bars (height)\n",
    "values_pred, counts_pred = first_spike_idx[y == 1].unique(return_counts=True)\n",
    "orange_bar = np.zeros(25 - 4)\n",
    "cnt_to_append = 0\n",
    "for val, cnt in zip(values_pred, counts_pred):\n",
    "  if val > 0:\n",
    "    orange_bar[val - 4] = cnt.item()\n",
    "  else:\n",
    "    cnt_to_append = cnt.item()\n",
    "orange_bar = np.append(orange_bar, cnt_to_append)\n",
    "\n",
    "# Position of bars on x-axis\n",
    "ind = np.arange(N)\n",
    "\n",
    "plt.figure(figsize=(13,5))\n",
    "\n",
    "# Width of a bar \n",
    "width = 0.3       \n",
    "\n",
    "# Plotting\n",
    "plt.bar(ind, blue_bar , width, label='Optimal spike')\n",
    "plt.bar(ind + width, orange_bar, width, label='Predicted spike')\n",
    "\n",
    "plt.xlabel('Spike index')\n",
    "plt.ylabel('Test set counts')\n",
    "plt.title('Optimal spikes vs observed spikes')\n",
    "\n",
    "# First argument - A list of positions at which ticks should be placed\n",
    "# Second argument -  A list of labels to place at the given locations\n",
    "x_labs = list(range(5,26))\n",
    "x_labs.append('No Spike')\n",
    "plt.xticks(ind + width / 2, x_labs)\n",
    "\n",
    "# Finding the best position for legends and putting it\n",
    "plt.legend(loc='best')\n",
    "plt.show()"
   ]
  },
  {
   "cell_type": "code",
   "execution_count": null,
   "metadata": {
    "id": "rz0yKZSfpZrT"
   },
   "outputs": [],
   "source": []
  },
  {
   "cell_type": "code",
   "execution_count": null,
   "metadata": {
    "id": "JvAK1plzpZvZ"
   },
   "outputs": [],
   "source": []
  },
  {
   "cell_type": "code",
   "execution_count": null,
   "metadata": {
    "id": "6FckaoQ8pZym"
   },
   "outputs": [],
   "source": []
  },
  {
   "cell_type": "code",
   "execution_count": null,
   "metadata": {
    "id": "jYSSW8Y6b35q"
   },
   "outputs": [],
   "source": []
  }
 ],
 "metadata": {
  "accelerator": "GPU",
  "colab": {
   "authorship_tag": "ABX9TyOUsHO8F3TuiVI8uFn/OOeW",
   "collapsed_sections": [],
   "include_colab_link": true,
   "machine_shape": "hm",
   "name": "seq_data_rank_coding2.ipynb",
   "provenance": []
  },
  "kernelspec": {
   "display_name": "Python 3",
   "language": "python",
   "name": "python3"
  },
  "language_info": {
   "codemirror_mode": {
    "name": "ipython",
    "version": 3
   },
   "file_extension": ".py",
   "mimetype": "text/x-python",
   "name": "python",
   "nbconvert_exporter": "python",
   "pygments_lexer": "ipython3",
   "version": "3.8.3"
  }
 },
 "nbformat": 4,
 "nbformat_minor": 4
}
